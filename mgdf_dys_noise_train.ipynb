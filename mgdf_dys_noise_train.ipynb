{
  "cells": [
    {
      "cell_type": "code",
      "execution_count": 1,
      "id": "b459a2b3",
      "metadata": {
        "colab": {
          "base_uri": "https://localhost:8080/"
        },
        "id": "b459a2b3",
        "outputId": "ebcab47e-a35e-45b8-8b4d-335093f605d7"
      },
      "outputs": [
        {
          "output_type": "stream",
          "name": "stdout",
          "text": [
            "Mounted at /content/drive\n"
          ]
        }
      ],
      "source": [
        "from google.colab import drive\n",
        "drive.mount('/content/drive')"
      ]
    },
    {
      "cell_type": "code",
      "execution_count": 2,
      "id": "7840549b",
      "metadata": {
        "id": "7840549b"
      },
      "outputs": [],
      "source": [
        "import scipy.io"
      ]
    },
    {
      "cell_type": "code",
      "execution_count": 3,
      "id": "f806830d",
      "metadata": {
        "colab": {
          "base_uri": "https://localhost:8080/"
        },
        "id": "f806830d",
        "outputId": "10286ade-967a-42cb-dd50-efef728a5bce"
      },
      "outputs": [
        {
          "output_type": "stream",
          "name": "stdout",
          "text": [
            "total files of with popnoise : 3564\n",
            "total files of without popnoise : 3476\n"
          ]
        }
      ],
      "source": [
        "import os,sys\n",
        "path1='/content/drive/MyDrive/rpa_mgd/save rc a train'\n",
        "\n",
        "print('total files of with popnoise :',len(os.listdir(path1)))\n",
        "\n",
        "path2='/content/drive/MyDrive/rpa_mgd/save rp a train'\n",
        "\n",
        "print('total files of without popnoise :',len(os.listdir(path2)))\n",
        "\n",
        "#path3=r\"E:\\Dysarthria_data\\mgdcc_noise\\street\\20\\medium\"\n",
        "\n",
        "#print('total files of medium:',len(os.listdir(path3)))\n",
        "\n",
        "#path5=r\"E:\\Dysarthria_data\\mgdcc_noise\\street\\20\\high\"\n",
        "\n",
        "#print('total files of high:',len(os.listdir(path5)))"
      ]
    },
    {
      "cell_type": "code",
      "execution_count": 4,
      "id": "d4Lazk_AJo_J",
      "metadata": {
        "id": "d4Lazk_AJo_J"
      },
      "outputs": [],
      "source": [
        "#eg='Speech lab/Aditya/features/mgdcc feat 0.1 0.8/very low/F05-B1-CW4-M3'\n",
        "#mat = scipy.io.loadmat(eg)\n",
        "#print(mat['feat'])"
      ]
    },
    {
      "cell_type": "code",
      "execution_count": 5,
      "id": "a887397b",
      "metadata": {
        "id": "a887397b"
      },
      "outputs": [],
      "source": [
        "train_labels=[]\n",
        "train_extracted1=[]\n",
        "# class very low\n",
        "files = os.listdir(path1)\n",
        "for i in files:\n",
        "  string = path1 + '/'+i\n",
        "  mat = scipy.io.loadmat(string)\n",
        "  train_labels.append('with popnoice')   \n",
        "  train_extracted1.append(mat['feat'])  "
      ]
    },
    {
      "cell_type": "code",
      "source": [
        "mat['feat']"
      ],
      "metadata": {
        "id": "7lJjomVPGmCs"
      },
      "id": "7lJjomVPGmCs",
      "execution_count": null,
      "outputs": []
    },
    {
      "cell_type": "code",
      "execution_count": 6,
      "id": "E6XrIFBP8YyH",
      "metadata": {
        "colab": {
          "base_uri": "https://localhost:8080/"
        },
        "id": "E6XrIFBP8YyH",
        "outputId": "1747d41e-bf6b-4b97-a437-8d9243928cae"
      },
      "outputs": [
        {
          "output_type": "execute_result",
          "data": {
            "text/plain": [
              "3564"
            ]
          },
          "metadata": {},
          "execution_count": 6
        }
      ],
      "source": [
        "len(train_labels)"
      ]
    },
    {
      "cell_type": "code",
      "execution_count": 7,
      "id": "WCdy4m5S8sTW",
      "metadata": {
        "colab": {
          "base_uri": "https://localhost:8080/"
        },
        "id": "WCdy4m5S8sTW",
        "outputId": "36702d88-d667-4e8d-a17a-ef1c0a66e764"
      },
      "outputs": [
        {
          "output_type": "execute_result",
          "data": {
            "text/plain": [
              "3564"
            ]
          },
          "metadata": {},
          "execution_count": 7
        }
      ],
      "source": [
        "len(train_extracted1)"
      ]
    },
    {
      "cell_type": "code",
      "execution_count": 8,
      "id": "de5d0d8a",
      "metadata": {
        "id": "de5d0d8a"
      },
      "outputs": [],
      "source": [
        "train_extracted2=[]\n",
        "# class low\n",
        "files = os.listdir(path2)\n",
        "for i in files:\n",
        "  string = path2 + '/'+i\n",
        "  mat = scipy.io.loadmat(string)\n",
        "  train_labels.append('without popnoice')   \n",
        "  train_extracted2.append(mat['feat']) "
      ]
    },
    {
      "cell_type": "code",
      "execution_count": 9,
      "id": "UDFxg_j58arI",
      "metadata": {
        "colab": {
          "base_uri": "https://localhost:8080/"
        },
        "id": "UDFxg_j58arI",
        "outputId": "97b46459-da4e-4b1f-f06f-8fa5d2437676"
      },
      "outputs": [
        {
          "output_type": "execute_result",
          "data": {
            "text/plain": [
              "7040"
            ]
          },
          "metadata": {},
          "execution_count": 9
        }
      ],
      "source": [
        "len(train_labels)"
      ]
    },
    {
      "cell_type": "code",
      "execution_count": 10,
      "id": "QXIQSmLR8vaG",
      "metadata": {
        "colab": {
          "base_uri": "https://localhost:8080/"
        },
        "id": "QXIQSmLR8vaG",
        "outputId": "c06fbe12-1624-4245-fb6a-1ad1c8b16856"
      },
      "outputs": [
        {
          "output_type": "execute_result",
          "data": {
            "text/plain": [
              "3476"
            ]
          },
          "metadata": {},
          "execution_count": 10
        }
      ],
      "source": [
        "len(train_extracted2)"
      ]
    },
    {
      "cell_type": "code",
      "execution_count": 11,
      "id": "6e996b9b",
      "metadata": {
        "id": "6e996b9b"
      },
      "outputs": [],
      "source": [
        "#train_extracted3=[]\n",
        "# class medium\n",
        "#files = os.listdir(path3)\n",
        "#for i in files:\n",
        " #string = path3 + '/'+i\n",
        "  #mat = scipy.io.loadmat(string)\n",
        "  #train_labels.append('medium')   \n",
        "  #train_extracted3.append(mat['feat']) "
      ]
    },
    {
      "cell_type": "code",
      "execution_count": 12,
      "id": "Ux_vg_oA8dGo",
      "metadata": {
        "id": "Ux_vg_oA8dGo"
      },
      "outputs": [],
      "source": [
        "#len(train_labels)"
      ]
    },
    {
      "cell_type": "code",
      "execution_count": 13,
      "id": "vQpx-Xmr8xUF",
      "metadata": {
        "id": "vQpx-Xmr8xUF"
      },
      "outputs": [],
      "source": [
        "#len(train_extracted3)"
      ]
    },
    {
      "cell_type": "code",
      "execution_count": 14,
      "id": "dd5bb647",
      "metadata": {
        "id": "dd5bb647"
      },
      "outputs": [],
      "source": [
        "#train_extracted5=[]\n",
        "# class high\n",
        "#files = os.listdir(path5)\n",
        "#for i in files:\n",
        "#  string = path5 + '/'+i\n",
        "#  mat = scipy.io.loadmat(string)\n",
        "#  train_labels.append('high')   \n",
        "#  train_extracted5.append(mat['feat']) "
      ]
    },
    {
      "cell_type": "code",
      "execution_count": 15,
      "id": "3286922f",
      "metadata": {
        "id": "3286922f"
      },
      "outputs": [],
      "source": [
        "#len(train_labels)"
      ]
    },
    {
      "cell_type": "code",
      "execution_count": 16,
      "id": "wc06P1ue8y1N",
      "metadata": {
        "id": "wc06P1ue8y1N"
      },
      "outputs": [],
      "source": [
        "#len(train_extracted5)"
      ]
    },
    {
      "cell_type": "code",
      "execution_count": 17,
      "id": "ee287aae",
      "metadata": {
        "colab": {
          "base_uri": "https://localhost:8080/"
        },
        "id": "ee287aae",
        "outputId": "e7c0d7c1-921b-49d5-e29c-190690b6ed39"
      },
      "outputs": [
        {
          "output_type": "stream",
          "name": "stdout",
          "text": [
            "198\n"
          ]
        }
      ],
      "source": [
        "a=[]\n",
        "for i in range(len(train_extracted1)):\n",
        "  aa=train_extracted1[i].shape[1]\n",
        "  a.append(aa)\n",
        "\n",
        "print(max(a))"
      ]
    },
    {
      "cell_type": "code",
      "execution_count": 18,
      "id": "f97816f0",
      "metadata": {
        "colab": {
          "base_uri": "https://localhost:8080/"
        },
        "id": "f97816f0",
        "outputId": "05b3377a-85d0-40ce-aa43-a60bdcf7a29a"
      },
      "outputs": [
        {
          "output_type": "stream",
          "name": "stdout",
          "text": [
            "208\n"
          ]
        }
      ],
      "source": [
        "a=[]\n",
        "for i in range(len(train_extracted2)):\n",
        "  aa=train_extracted2[i].shape[1]\n",
        "  a.append(aa)\n",
        "\n",
        "print(max(a))"
      ]
    },
    {
      "cell_type": "code",
      "execution_count": 19,
      "id": "e26a4aac",
      "metadata": {
        "id": "e26a4aac"
      },
      "outputs": [],
      "source": [
        "#a=[]\n",
        "#for i in range(len(train_extracted3)):\n",
        "#  aa=train_extracted3[i].shape[1]\n",
        "#  a.append(aa)\n",
        "\n",
        "#print(max(a))"
      ]
    },
    {
      "cell_type": "code",
      "execution_count": 20,
      "id": "0638cb84",
      "metadata": {
        "id": "0638cb84"
      },
      "outputs": [],
      "source": [
        "#a=[]\n",
        "#for i in range(len(train_extracted5)):\n",
        "#  aa=train_extracted5[i].shape[1]\n",
        "#  a.append(aa)\n",
        "\n",
        "#print(max(a))"
      ]
    },
    {
      "cell_type": "code",
      "execution_count": 21,
      "id": "d863c248",
      "metadata": {
        "id": "d863c248"
      },
      "outputs": [],
      "source": [
        "import numpy as np\n",
        "train_extracted_1=np.zeros((3564,20,208))\n",
        "for i in range(len(train_extracted1)):\n",
        "  shapee=208-train_extracted1[i].shape[1]\n",
        "  train_extracted_1[i,:,:]=np.pad(train_extracted1[i], ((0,0), (0, shapee)), 'constant')"
      ]
    },
    {
      "cell_type": "code",
      "execution_count": 22,
      "id": "5f3ae5d1",
      "metadata": {
        "id": "5f3ae5d1"
      },
      "outputs": [],
      "source": [
        "train_extracted_2=np.zeros((3476,20,208))\n",
        "for i in range(len(train_extracted2)):\n",
        "  shapee=208-train_extracted2[i].shape[1]\n",
        "  train_extracted_2[i,:,:]=np.pad(train_extracted2[i], ((0,0), (0, shapee)), 'constant')"
      ]
    },
    {
      "cell_type": "code",
      "execution_count": 23,
      "id": "efc67baf",
      "metadata": {
        "id": "efc67baf"
      },
      "outputs": [],
      "source": [
        "#train_extracted_3=np.zeros((930,20,2000))\n",
        "#for i in range(len(train_extracted3)):\n",
        "#  shapee=2000-train_extracted3[i].shape[1]\n",
        "#  train_extracted_3[i,:,:]=np.pad(train_extracted3[i], ((0,0), (0, shapee)), 'constant')"
      ]
    },
    {
      "cell_type": "code",
      "execution_count": 23,
      "id": "DvcLxgd-AvjT",
      "metadata": {
        "id": "DvcLxgd-AvjT"
      },
      "outputs": [],
      "source": []
    },
    {
      "cell_type": "code",
      "execution_count": 24,
      "id": "kBlkvBzmA9a5",
      "metadata": {
        "id": "kBlkvBzmA9a5"
      },
      "outputs": [],
      "source": [
        "#for j in lis:\n",
        "#  if j<0:\n",
        "#    j==2000\n",
        "#  elif i=j"
      ]
    },
    {
      "cell_type": "code",
      "execution_count": 25,
      "id": "686d7079",
      "metadata": {
        "id": "686d7079"
      },
      "outputs": [],
      "source": [
        "#train_extracted_5=np.zeros((751,20,5691))\n",
        "#for i in range(len(train_extracted5)):\n",
        "#  shapee=5691-train_extracted5[i].shape[1]\n",
        "#  train_extracted_5[i,:,:]=np.pad(train_extracted5[i], ((0,0), (0, shapee)), 'constant')"
      ]
    },
    {
      "cell_type": "code",
      "execution_count": 26,
      "id": "6c58e2d1",
      "metadata": {
        "colab": {
          "base_uri": "https://localhost:8080/"
        },
        "id": "6c58e2d1",
        "outputId": "5868b9f0-004f-4ccd-d1ec-432f29592acc"
      },
      "outputs": [
        {
          "output_type": "stream",
          "name": "stdout",
          "text": [
            "(3564, 20, 208)\n",
            "(3476, 20, 208)\n"
          ]
        }
      ],
      "source": [
        "print(train_extracted_1.shape)\n",
        "print(train_extracted_2.shape)\n",
        "#print(train_extracted_3.shape)\n",
        "#print(train_extracted_5.shape)"
      ]
    },
    {
      "cell_type": "code",
      "execution_count": 27,
      "id": "fefb5b70",
      "metadata": {
        "id": "fefb5b70"
      },
      "outputs": [],
      "source": [
        "train_extracted=np.zeros((3564+3476,20,208))\n",
        "for i in range(len(train_extracted_1)):\n",
        "  train_extracted[i,:,:]=train_extracted_1[i,:,:]"
      ]
    },
    {
      "cell_type": "code",
      "execution_count": 28,
      "id": "a8e58b00",
      "metadata": {
        "id": "a8e58b00"
      },
      "outputs": [],
      "source": [
        "for i in range(len(train_extracted_2)):\n",
        "  train_extracted[3564+i,:,:]=train_extracted_2[i,:,:]"
      ]
    },
    {
      "cell_type": "code",
      "execution_count": 29,
      "id": "51fb05bf",
      "metadata": {
        "id": "51fb05bf"
      },
      "outputs": [],
      "source": [
        "#for i in range(len(train_extracted_3)):\n",
        "#  train_extracted[930+926+i,:,:]=train_extracted_3[i,:,:]"
      ]
    },
    {
      "cell_type": "code",
      "execution_count": 30,
      "id": "343b9103",
      "metadata": {
        "id": "343b9103"
      },
      "outputs": [],
      "source": [
        "#for i in range(len(train_extracted_5)):\n",
        "#  train_extracted[930+926+930+i,:,:]=train_extracted_5[i,:,:2000]"
      ]
    },
    {
      "cell_type": "code",
      "execution_count": 31,
      "id": "fc248a8d",
      "metadata": {
        "colab": {
          "base_uri": "https://localhost:8080/"
        },
        "id": "fc248a8d",
        "outputId": "649b4f58-1415-40d2-e37f-a939090e94ad"
      },
      "outputs": [
        {
          "output_type": "execute_result",
          "data": {
            "text/plain": [
              "(7040, 20, 208)"
            ]
          },
          "metadata": {},
          "execution_count": 31
        }
      ],
      "source": [
        "train_extracted.shape"
      ]
    },
    {
      "cell_type": "code",
      "execution_count": 32,
      "id": "e302c1a6",
      "metadata": {
        "colab": {
          "base_uri": "https://localhost:8080/"
        },
        "id": "e302c1a6",
        "outputId": "6d1739e7-0850-431b-bd41-94ef9a3ddfb4"
      },
      "outputs": [
        {
          "output_type": "execute_result",
          "data": {
            "text/plain": [
              "7040"
            ]
          },
          "metadata": {},
          "execution_count": 32
        }
      ],
      "source": [
        "len(train_labels)"
      ]
    },
    {
      "cell_type": "code",
      "execution_count": 33,
      "id": "f5JVAPCN9pcu",
      "metadata": {
        "id": "f5JVAPCN9pcu"
      },
      "outputs": [],
      "source": [
        "#train_extracted=train_extracted[:3547,:20,:2000]"
      ]
    },
    {
      "cell_type": "code",
      "execution_count": 34,
      "id": "8cda0c22",
      "metadata": {
        "colab": {
          "base_uri": "https://localhost:8080/"
        },
        "id": "8cda0c22",
        "outputId": "6a769955-39a5-4085-b603-e07be9dcb352"
      },
      "outputs": [
        {
          "output_type": "stream",
          "name": "stdout",
          "text": [
            "(7040, 20, 208, 1)\n"
          ]
        }
      ],
      "source": [
        "train_extracted=train_extracted.reshape(-1,20,208,1)\n",
        "print(train_extracted.shape)"
      ]
    },
    {
      "cell_type": "code",
      "execution_count": 35,
      "id": "30737d09",
      "metadata": {
        "colab": {
          "base_uri": "https://localhost:8080/"
        },
        "id": "30737d09",
        "outputId": "9a0bd129-5ef5-4c9d-d99b-fc6ec75dc6b2"
      },
      "outputs": [
        {
          "output_type": "stream",
          "name": "stdout",
          "text": [
            "(7040, 1)\n"
          ]
        }
      ],
      "source": [
        "from sklearn.preprocessing import LabelBinarizer\n",
        "label_binrizer = LabelBinarizer()\n",
        "train_labels = label_binrizer.fit_transform(train_labels)\n",
        "print(train_labels.shape)"
      ]
    },
    {
      "cell_type": "code",
      "execution_count": 36,
      "id": "4f8dd352",
      "metadata": {
        "colab": {
          "base_uri": "https://localhost:8080/"
        },
        "id": "4f8dd352",
        "outputId": "240b6438-041f-449a-bea9-7f5b677b7b74"
      },
      "outputs": [
        {
          "output_type": "stream",
          "name": "stdout",
          "text": [
            "x_val shape (1408, 20, 208, 1)\n",
            "x_train shape (5632, 20, 208, 1)\n",
            "y_val shape 1408\n",
            "y_train shape 5632\n"
          ]
        }
      ],
      "source": [
        "from sklearn.model_selection import train_test_split\n",
        "X_train, X_val, y_train, y_val = train_test_split(train_extracted, train_labels, test_size=0.20, random_state=42,shuffle=True)# Create the Test and Final Training Datasets\n",
        "print(\"x_val shape\",X_val.shape)\n",
        "print(\"x_train shape\",X_train.shape)\n",
        "print(\"y_val shape\",len(y_val))\n",
        "print(\"y_train shape\",len(y_train))"
      ]
    },
    {
      "cell_type": "code",
      "execution_count": 37,
      "id": "MzxZZ7w_UMB8",
      "metadata": {
        "id": "MzxZZ7w_UMB8"
      },
      "outputs": [],
      "source": [
        "import tensorflow as tf\n",
        "tf.random.set_seed(1234)"
      ]
    },
    {
      "cell_type": "code",
      "execution_count": 38,
      "id": "H7vTDfNgyuH2",
      "metadata": {
        "id": "H7vTDfNgyuH2"
      },
      "outputs": [],
      "source": [
        "# X_train=X_train[:,:,:2000,:]\n",
        "# X_val=X_val[:,:,:2000,:]"
      ]
    },
    {
      "cell_type": "markdown",
      "source": [
        "artharkings code"
      ],
      "metadata": {
        "id": "jC1mOq3zZ50t"
      },
      "id": "jC1mOq3zZ50t"
    },
    {
      "cell_type": "code",
      "source": [
        "# # def cnn_model():\n",
        "#   # model = Sequential()  \n",
        "#   model.add(Conv2D(16, (3, 3),strides=(1,1),input_shape=(20, 2000, 1), kernel_initializer='he_normal',padding='same'))\n",
        "#   model.add(BatchNormalization())\n",
        "#   model.add(Activation('relu'))\n",
        "#   model.add(MaxPool2D(pool_size=(2, 2),strides=(2, 2)))\n",
        "#   model.add(Dropout(0.25))\n",
        "\n",
        "#   model.add(Conv2D(32, (3, 3),strides=(1,1),padding='same'))\n",
        "#   #model.add(Activation('relu'))\n",
        "#   model.add(BatchNormalization())\n",
        "#   model.add(Activation('relu'))\n",
        "#   model.add(MaxPool2D(pool_size=(2, 2)))\n",
        "#   model.add(Dropout(0.25))\n",
        "\n",
        "#   model.add(Conv2D(64, (3, 3),strides=(1,1),padding='same'))\n",
        "#   #model.add(Activation('relu'))\n",
        "#   model.add(BatchNormalization())\n",
        "#   model.add(Activation('relu'))\n",
        "#   model.add(MaxPool2D(pool_size=(2, 2)))\n",
        "#   model.add(Dropout(0.25))\n",
        "\n",
        "#   model.add(Conv2D(128, (3, 3),strides=(1,1),padding='same'))\n",
        "#   #model.add(Activation('relu'))\n",
        "#   model.add(BatchNormalization())\n",
        "#   model.add(Activation('relu'))\n",
        "#   model.add(MaxPool2D(pool_size=(2, 2)))\n",
        "#   model.add(Dropout(0.25))\n",
        "\n",
        "#   model.add(Conv2D(256, (3, 3),strides=(1,1),padding='same'))\n",
        "#   #model.add(Activation('relu'))\n",
        "#   model.add(BatchNormalization())\n",
        "#   model.add(Activation('relu'))\n",
        "#   #model.add(MaxPool2D(pool_size=(2, 2)))\n",
        "#   model.add(Dropout(0.25))\n",
        "\n",
        "#   model.add(Flatten())\n",
        "\n",
        "#   model.add(Dense(128,activation='relu'))\n",
        "#   model.add(Dense(64,activation='relu'))\n",
        "#   model.add(Dense(16,activation='relu'))\n",
        "#   model.add(Dense(1, activation='sigmoid'))\n",
        "\n",
        "    \n",
        "#   opt = Adam(lr=0.001)\n",
        "#   model.compile(loss='binary_crossentropy', \n",
        "#                   optimizer=opt, \n",
        "#                   metrics=['accuracy'])\n",
        "#   return model\n"
      ],
      "metadata": {
        "id": "3y8wmKp2Z5U-"
      },
      "id": "3y8wmKp2Z5U-",
      "execution_count": 39,
      "outputs": []
    },
    {
      "cell_type": "markdown",
      "source": [
        "adi bhais code"
      ],
      "metadata": {
        "id": "q95XiuZJZ6a1"
      },
      "id": "q95XiuZJZ6a1"
    },
    {
      "cell_type": "code",
      "execution_count": 40,
      "id": "41fc4ae0",
      "metadata": {
        "id": "41fc4ae0"
      },
      "outputs": [],
      "source": [
        "def cnn_model():\n",
        "  model = Sequential()  \n",
        "  model.add(Conv2D(16, (3, 3),strides=(1,1),input_shape=(20, 208, 1), kernel_initializer='he_normal',padding='same'))\n",
        "  model.add(BatchNormalization())\n",
        "  model.add(Activation('relu'))\n",
        "  model.add(MaxPool2D(pool_size=(2, 2),strides=(2, 2)))\n",
        "  model.add(Dropout(0.25))\n",
        "\n",
        "  model.add(Conv2D(32, (3, 3),strides=(1,1),padding='same'))\n",
        "  #model.add(Activation('relu'))\n",
        "  model.add(BatchNormalization())\n",
        "  model.add(Activation('relu'))\n",
        "  model.add(MaxPool2D(pool_size=(2, 2)))\n",
        "  model.add(Dropout(0.25))\n",
        "\n",
        "  model.add(Conv2D(64, (3, 3),strides=(1,1),padding='same'))\n",
        "  #model.add(Activation('relu'))\n",
        "  model.add(BatchNormalization())\n",
        "  model.add(Activation('relu'))\n",
        "  model.add(MaxPool2D(pool_size=(2, 2)))\n",
        "  model.add(Dropout(0.25))\n",
        "\n",
        "  model.add(Conv2D(128, (3, 3),strides=(1,1),padding='same'))\n",
        "  #model.add(Activation('relu'))\n",
        "  model.add(BatchNormalization())\n",
        "  model.add(Activation('relu'))\n",
        "  model.add(MaxPool2D(pool_size=(2, 2)))\n",
        "  model.add(Dropout(0.25))\n",
        "\n",
        "  model.add(Conv2D(256, (3, 3),strides=(1,1),padding='same'))\n",
        "  #model.add(Activation('relu'))\n",
        "  model.add(BatchNormalization())\n",
        "  model.add(Activation('relu'))\n",
        "  #model.add(MaxPool2D(pool_size=(2, 2)))\n",
        "  model.add(Dropout(0.25))\n",
        "\n",
        "  model.add(Flatten())\n",
        "\n",
        "  model.add(Dense(128,activation='relu'))\n",
        "  model.add(Dense(64,activation='relu'))\n",
        "  model.add(Dense(16,activation='relu'))\n",
        "  model.add(Dense(1, activation='sigmoid'))\n",
        "\n",
        "    \n",
        "  opt = Adam(learning_rate=0.001)\n",
        "  model.compile(loss='binary_crossentropy', \n",
        "                  optimizer=opt, \n",
        "                  metrics=['accuracy'])\n",
        "  return model\n"
      ]
    },
    {
      "cell_type": "code",
      "execution_count": 41,
      "id": "486dcc22",
      "metadata": {
        "id": "486dcc22"
      },
      "outputs": [],
      "source": [
        "from sklearn.metrics import confusion_matrix\n",
        "import itertools\n",
        "from keras.utils.np_utils import to_categorical # convert to one-hot-encoding\n",
        "from keras.models import Sequential\n",
        "from keras.layers import Dense, Dropout, Flatten, Conv2D, MaxPool2D\n",
        "from keras.regularizers import l2\n",
        "from tensorflow.keras.optimizers import Adam\n",
        "from tensorflow.keras.layers import Dense, BatchNormalization\n",
        "from tensorflow.keras.layers import Activation\n",
        "from tensorflow.keras import regularizers\n",
        "from keras.callbacks import ModelCheckpoint, EarlyStopping"
      ]
    },
    {
      "cell_type": "code",
      "execution_count": 42,
      "id": "308dc553",
      "metadata": {
        "colab": {
          "base_uri": "https://localhost:8080/"
        },
        "id": "308dc553",
        "outputId": "3a70f489-914b-4e62-f0d0-ab52f4e077af"
      },
      "outputs": [
        {
          "output_type": "stream",
          "name": "stdout",
          "text": [
            "Model: \"sequential\"\n",
            "_________________________________________________________________\n",
            " Layer (type)                Output Shape              Param #   \n",
            "=================================================================\n",
            " conv2d (Conv2D)             (None, 20, 208, 16)       160       \n",
            "                                                                 \n",
            " batch_normalization (BatchN  (None, 20, 208, 16)      64        \n",
            " ormalization)                                                   \n",
            "                                                                 \n",
            " activation (Activation)     (None, 20, 208, 16)       0         \n",
            "                                                                 \n",
            " max_pooling2d (MaxPooling2D  (None, 10, 104, 16)      0         \n",
            " )                                                               \n",
            "                                                                 \n",
            " dropout (Dropout)           (None, 10, 104, 16)       0         \n",
            "                                                                 \n",
            " conv2d_1 (Conv2D)           (None, 10, 104, 32)       4640      \n",
            "                                                                 \n",
            " batch_normalization_1 (Batc  (None, 10, 104, 32)      128       \n",
            " hNormalization)                                                 \n",
            "                                                                 \n",
            " activation_1 (Activation)   (None, 10, 104, 32)       0         \n",
            "                                                                 \n",
            " max_pooling2d_1 (MaxPooling  (None, 5, 52, 32)        0         \n",
            " 2D)                                                             \n",
            "                                                                 \n",
            " dropout_1 (Dropout)         (None, 5, 52, 32)         0         \n",
            "                                                                 \n",
            " conv2d_2 (Conv2D)           (None, 5, 52, 64)         18496     \n",
            "                                                                 \n",
            " batch_normalization_2 (Batc  (None, 5, 52, 64)        256       \n",
            " hNormalization)                                                 \n",
            "                                                                 \n",
            " activation_2 (Activation)   (None, 5, 52, 64)         0         \n",
            "                                                                 \n",
            " max_pooling2d_2 (MaxPooling  (None, 2, 26, 64)        0         \n",
            " 2D)                                                             \n",
            "                                                                 \n",
            " dropout_2 (Dropout)         (None, 2, 26, 64)         0         \n",
            "                                                                 \n",
            " conv2d_3 (Conv2D)           (None, 2, 26, 128)        73856     \n",
            "                                                                 \n",
            " batch_normalization_3 (Batc  (None, 2, 26, 128)       512       \n",
            " hNormalization)                                                 \n",
            "                                                                 \n",
            " activation_3 (Activation)   (None, 2, 26, 128)        0         \n",
            "                                                                 \n",
            " max_pooling2d_3 (MaxPooling  (None, 1, 13, 128)       0         \n",
            " 2D)                                                             \n",
            "                                                                 \n",
            " dropout_3 (Dropout)         (None, 1, 13, 128)        0         \n",
            "                                                                 \n",
            " conv2d_4 (Conv2D)           (None, 1, 13, 256)        295168    \n",
            "                                                                 \n",
            " batch_normalization_4 (Batc  (None, 1, 13, 256)       1024      \n",
            " hNormalization)                                                 \n",
            "                                                                 \n",
            " activation_4 (Activation)   (None, 1, 13, 256)        0         \n",
            "                                                                 \n",
            " dropout_4 (Dropout)         (None, 1, 13, 256)        0         \n",
            "                                                                 \n",
            " flatten (Flatten)           (None, 3328)              0         \n",
            "                                                                 \n",
            " dense (Dense)               (None, 128)               426112    \n",
            "                                                                 \n",
            " dense_1 (Dense)             (None, 64)                8256      \n",
            "                                                                 \n",
            " dense_2 (Dense)             (None, 16)                1040      \n",
            "                                                                 \n",
            " dense_3 (Dense)             (None, 1)                 17        \n",
            "                                                                 \n",
            "=================================================================\n",
            "Total params: 829,729\n",
            "Trainable params: 828,737\n",
            "Non-trainable params: 992\n",
            "_________________________________________________________________\n"
          ]
        }
      ],
      "source": [
        "model=cnn_model()\n",
        "model.summary()"
      ]
    },
    {
      "cell_type": "markdown",
      "source": [
        "error comming here "
      ],
      "metadata": {
        "id": "__njp-sa9oif"
      },
      "id": "__njp-sa9oif"
    },
    {
      "cell_type": "code",
      "execution_count": null,
      "id": "PmCg1RnAqMPg",
      "metadata": {
        "colab": {
          "base_uri": "https://localhost:8080/"
        },
        "id": "PmCg1RnAqMPg",
        "outputId": "c6e47363-761b-4cd9-eb60-fb07a2c7ece9",
        "scrolled": true
      },
      "outputs": [
        {
          "output_type": "stream",
          "name": "stdout",
          "text": [
            "------------------------------------------------------------------------\n",
            "X_train split size (4505, 20, 208, 1)\n",
            "X_test split size (1127, 20, 208, 1)\n",
            "------------------------------------------------------------------------\n",
            "Training for fold 1 ...\n",
            "Epoch 1/100\n",
            "36/36 [==============================] - 39s 1s/step - loss: 0.7010 - accuracy: 0.5148\n",
            "Epoch 2/100\n",
            "36/36 [==============================] - 38s 1s/step - loss: 0.6899 - accuracy: 0.5314\n",
            "Epoch 3/100\n",
            "36/36 [==============================] - 36s 1s/step - loss: 0.6383 - accuracy: 0.6344\n",
            "Epoch 4/100\n",
            "36/36 [==============================] - 38s 1s/step - loss: 0.5761 - accuracy: 0.6801\n",
            "Epoch 5/100\n",
            "36/36 [==============================] - 36s 995ms/step - loss: 0.5492 - accuracy: 0.7088\n",
            "Epoch 6/100\n",
            "36/36 [==============================] - 41s 1s/step - loss: 0.5221 - accuracy: 0.7307\n",
            "Epoch 7/100\n",
            "36/36 [==============================] - 36s 1s/step - loss: 0.5039 - accuracy: 0.7476\n",
            "Epoch 8/100\n",
            "36/36 [==============================] - 39s 1s/step - loss: 0.4875 - accuracy: 0.7592\n",
            "Epoch 9/100\n",
            "36/36 [==============================] - 36s 1s/step - loss: 0.4804 - accuracy: 0.7600\n",
            "Epoch 10/100\n",
            "36/36 [==============================] - 38s 1s/step - loss: 0.4627 - accuracy: 0.7751\n",
            "Epoch 11/100\n",
            "36/36 [==============================] - 36s 1s/step - loss: 0.4557 - accuracy: 0.7747\n",
            "Epoch 12/100\n",
            "36/36 [==============================] - 39s 1s/step - loss: 0.4468 - accuracy: 0.7785\n",
            "Epoch 13/100\n",
            "36/36 [==============================] - 37s 1s/step - loss: 0.4393 - accuracy: 0.7809\n",
            "Epoch 14/100\n",
            "36/36 [==============================] - 39s 1s/step - loss: 0.4280 - accuracy: 0.7909\n",
            "Epoch 15/100\n",
            "36/36 [==============================] - 38s 1s/step - loss: 0.4226 - accuracy: 0.7925\n",
            "Epoch 16/100\n",
            "36/36 [==============================] - 37s 1s/step - loss: 0.4051 - accuracy: 0.8069\n",
            "Epoch 17/100\n",
            "36/36 [==============================] - 39s 1s/step - loss: 0.4001 - accuracy: 0.8067\n",
            "Epoch 18/100\n",
            "36/36 [==============================] - 37s 1s/step - loss: 0.3988 - accuracy: 0.8127\n",
            "Epoch 19/100\n",
            "36/36 [==============================] - 39s 1s/step - loss: 0.3963 - accuracy: 0.8149\n",
            "Epoch 20/100\n",
            "36/36 [==============================] - 36s 1s/step - loss: 0.3811 - accuracy: 0.8204\n",
            "Epoch 21/100\n",
            "36/36 [==============================] - 39s 1s/step - loss: 0.3673 - accuracy: 0.8286\n",
            "Epoch 22/100\n",
            "36/36 [==============================] - 40s 1s/step - loss: 0.3756 - accuracy: 0.8193\n",
            "Epoch 23/100\n",
            "36/36 [==============================] - 38s 1s/step - loss: 0.3672 - accuracy: 0.8238\n",
            "Epoch 24/100\n",
            "36/36 [==============================] - 36s 1s/step - loss: 0.3634 - accuracy: 0.8302\n",
            "Epoch 25/100\n",
            "36/36 [==============================] - 38s 1s/step - loss: 0.3470 - accuracy: 0.8400\n",
            "Epoch 26/100\n",
            "36/36 [==============================] - 38s 1s/step - loss: 0.3477 - accuracy: 0.8375\n",
            "Epoch 27/100\n",
            "36/36 [==============================] - 37s 1s/step - loss: 0.3379 - accuracy: 0.8408\n",
            "Epoch 28/100\n",
            "36/36 [==============================] - 38s 1s/step - loss: 0.3270 - accuracy: 0.8508\n",
            "Epoch 29/100\n",
            "36/36 [==============================] - 37s 1s/step - loss: 0.3300 - accuracy: 0.8468\n",
            "Epoch 30/100\n",
            "36/36 [==============================] - 39s 1s/step - loss: 0.3144 - accuracy: 0.8559\n",
            "Epoch 31/100\n",
            "36/36 [==============================] - 36s 1s/step - loss: 0.3067 - accuracy: 0.8655\n",
            "Epoch 32/100\n",
            "36/36 [==============================] - 38s 1s/step - loss: 0.2944 - accuracy: 0.8675\n",
            "Epoch 33/100\n",
            "36/36 [==============================] - 36s 1s/step - loss: 0.2942 - accuracy: 0.8690\n",
            "Epoch 34/100\n",
            "36/36 [==============================] - 38s 1s/step - loss: 0.2794 - accuracy: 0.8746\n",
            "Epoch 35/100\n",
            "36/36 [==============================] - 36s 1s/step - loss: 0.2755 - accuracy: 0.8766\n",
            "Epoch 36/100\n",
            "36/36 [==============================] - 38s 1s/step - loss: 0.2870 - accuracy: 0.8733\n",
            "Epoch 37/100\n",
            "36/36 [==============================] - 36s 1s/step - loss: 0.2722 - accuracy: 0.8832\n",
            "Epoch 38/100\n",
            "36/36 [==============================] - 43s 1s/step - loss: 0.2607 - accuracy: 0.8832\n",
            "Epoch 39/100\n",
            "36/36 [==============================] - 37s 1s/step - loss: 0.2696 - accuracy: 0.8819\n",
            "Epoch 40/100\n",
            "36/36 [==============================] - 37s 1s/step - loss: 0.2673 - accuracy: 0.8824\n",
            "Epoch 41/100\n",
            "36/36 [==============================] - 42s 1s/step - loss: 0.2529 - accuracy: 0.8890\n",
            "Epoch 42/100\n",
            "36/36 [==============================] - 39s 1s/step - loss: 0.2413 - accuracy: 0.8997\n",
            "Epoch 43/100\n",
            "36/36 [==============================] - 41s 1s/step - loss: 0.2325 - accuracy: 0.8986\n",
            "Epoch 44/100\n",
            "36/36 [==============================] - 39s 1s/step - loss: 0.2441 - accuracy: 0.8919\n",
            "Epoch 45/100\n",
            "36/36 [==============================] - 36s 1s/step - loss: 0.2332 - accuracy: 0.8981\n",
            "Epoch 46/100\n",
            "36/36 [==============================] - 38s 1s/step - loss: 0.2222 - accuracy: 0.9019\n",
            "Epoch 47/100\n",
            "36/36 [==============================] - 36s 1s/step - loss: 0.2271 - accuracy: 0.9043\n",
            "Epoch 48/100\n",
            "36/36 [==============================] - 38s 1s/step - loss: 0.2070 - accuracy: 0.9128\n",
            "Epoch 49/100\n",
            "36/36 [==============================] - 37s 1s/step - loss: 0.2116 - accuracy: 0.9070\n",
            "Epoch 50/100\n",
            "36/36 [==============================] - 38s 1s/step - loss: 0.2155 - accuracy: 0.9088\n",
            "Epoch 51/100\n",
            "36/36 [==============================] - 36s 989ms/step - loss: 0.2115 - accuracy: 0.9105\n",
            "Epoch 52/100\n",
            "36/36 [==============================] - 40s 1s/step - loss: 0.1986 - accuracy: 0.9170\n",
            "Epoch 53/100\n",
            "36/36 [==============================] - 50s 1s/step - loss: 0.1924 - accuracy: 0.9216\n",
            "Epoch 54/100\n",
            "36/36 [==============================] - 41s 1s/step - loss: 0.1781 - accuracy: 0.9263\n",
            "Epoch 55/100\n",
            "36/36 [==============================] - 36s 1s/step - loss: 0.1899 - accuracy: 0.9199\n",
            "Epoch 56/100\n",
            "36/36 [==============================] - 44s 1s/step - loss: 0.1707 - accuracy: 0.9319\n",
            "Epoch 57/100\n",
            "36/36 [==============================] - 38s 1s/step - loss: 0.1878 - accuracy: 0.9214\n",
            "Epoch 58/100\n",
            "36/36 [==============================] - 36s 1000ms/step - loss: 0.1718 - accuracy: 0.9292\n",
            "Epoch 59/100\n",
            "36/36 [==============================] - 39s 1s/step - loss: 0.1912 - accuracy: 0.9225\n",
            "Epoch 60/100\n",
            "36/36 [==============================] - 37s 1s/step - loss: 0.1640 - accuracy: 0.9341\n",
            "Epoch 61/100\n",
            "36/36 [==============================] - 37s 1s/step - loss: 0.1692 - accuracy: 0.9299\n",
            "Epoch 62/100\n",
            "36/36 [==============================] - 38s 1s/step - loss: 0.1676 - accuracy: 0.9307\n",
            "Epoch 63/100\n",
            "36/36 [==============================] - 37s 1s/step - loss: 0.1512 - accuracy: 0.9394\n",
            "Epoch 64/100\n",
            "36/36 [==============================] - 38s 1s/step - loss: 0.1408 - accuracy: 0.9423\n",
            "Epoch 65/100\n",
            "36/36 [==============================] - 37s 1s/step - loss: 0.1622 - accuracy: 0.9356\n",
            "Epoch 66/100\n",
            "36/36 [==============================] - 38s 1s/step - loss: 0.1534 - accuracy: 0.9361\n",
            "Epoch 67/100\n",
            "36/36 [==============================] - 36s 1s/step - loss: 0.1437 - accuracy: 0.9445\n",
            "Epoch 68/100\n",
            "36/36 [==============================] - 38s 1s/step - loss: 0.1360 - accuracy: 0.9463\n",
            "Epoch 69/100\n",
            "36/36 [==============================] - 37s 1s/step - loss: 0.1526 - accuracy: 0.9423\n",
            "Epoch 70/100\n",
            "36/36 [==============================] - 38s 1s/step - loss: 0.1512 - accuracy: 0.9412\n",
            "Epoch 71/100\n",
            "36/36 [==============================] - 36s 1s/step - loss: 0.1291 - accuracy: 0.9465\n",
            "Epoch 72/100\n",
            "36/36 [==============================] - 38s 1s/step - loss: 0.1122 - accuracy: 0.9567\n",
            "Epoch 73/100\n",
            "36/36 [==============================] - 36s 1s/step - loss: 0.1322 - accuracy: 0.9467\n",
            "Epoch 74/100\n",
            "36/36 [==============================] - 38s 1s/step - loss: 0.1353 - accuracy: 0.9465\n",
            "Epoch 75/100\n",
            "36/36 [==============================] - 36s 1s/step - loss: 0.1244 - accuracy: 0.9496\n",
            "Epoch 76/100\n",
            "36/36 [==============================] - 39s 1s/step - loss: 0.1293 - accuracy: 0.9516\n",
            "Epoch 77/100\n",
            "36/36 [==============================] - 36s 1s/step - loss: 0.1382 - accuracy: 0.9445\n",
            "Epoch 78/100\n",
            "36/36 [==============================] - 39s 1s/step - loss: 0.1150 - accuracy: 0.9547\n",
            "Epoch 79/100\n",
            "36/36 [==============================] - 36s 1s/step - loss: 0.1261 - accuracy: 0.9481\n",
            "Epoch 80/100\n",
            "36/36 [==============================] - 39s 1s/step - loss: 0.1202 - accuracy: 0.9529\n",
            "Epoch 81/100\n",
            "36/36 [==============================] - 40s 1s/step - loss: 0.1131 - accuracy: 0.9572\n",
            "Epoch 82/100\n",
            "36/36 [==============================] - 39s 1s/step - loss: 0.1146 - accuracy: 0.9576\n",
            "Epoch 83/100\n",
            "36/36 [==============================] - 40s 1s/step - loss: 0.1005 - accuracy: 0.9605\n",
            "Epoch 84/100\n",
            "36/36 [==============================] - 39s 1s/step - loss: 0.1161 - accuracy: 0.9516\n",
            "Epoch 85/100\n",
            "36/36 [==============================] - 39s 1s/step - loss: 0.0994 - accuracy: 0.9636\n",
            "Epoch 86/100\n",
            "36/36 [==============================] - 40s 1s/step - loss: 0.1132 - accuracy: 0.9583\n",
            "Epoch 87/100\n",
            "36/36 [==============================] - 37s 1s/step - loss: 0.1017 - accuracy: 0.9585\n",
            "Epoch 88/100\n",
            "36/36 [==============================] - 40s 1s/step - loss: 0.1088 - accuracy: 0.9585\n",
            "Epoch 89/100\n",
            "36/36 [==============================] - 40s 1s/step - loss: 0.0982 - accuracy: 0.9640\n",
            "Epoch 90/100\n",
            "36/36 [==============================] - 38s 1s/step - loss: 0.0963 - accuracy: 0.9643\n",
            "Epoch 91/100\n",
            "36/36 [==============================] - 40s 1s/step - loss: 0.0898 - accuracy: 0.9647\n",
            "Epoch 92/100\n",
            "36/36 [==============================] - 41s 1s/step - loss: 0.1048 - accuracy: 0.9616\n",
            "Epoch 93/100\n",
            "36/36 [==============================] - 39s 1s/step - loss: 0.0943 - accuracy: 0.9607\n",
            "Epoch 94/100\n",
            "36/36 [==============================] - 41s 1s/step - loss: 0.0826 - accuracy: 0.9647\n",
            "Epoch 95/100\n",
            "36/36 [==============================] - 39s 1s/step - loss: 0.1004 - accuracy: 0.9643\n",
            "Epoch 96/100\n",
            "36/36 [==============================] - 42s 1s/step - loss: 0.0837 - accuracy: 0.9660\n",
            "Epoch 97/100\n",
            "36/36 [==============================] - 41s 1s/step - loss: 0.0847 - accuracy: 0.9658\n",
            "Epoch 98/100\n",
            "36/36 [==============================] - 41s 1s/step - loss: 0.0857 - accuracy: 0.9660\n",
            "Epoch 99/100\n",
            "36/36 [==============================] - 37s 1s/step - loss: 0.0893 - accuracy: 0.9638\n",
            "Epoch 100/100\n",
            "36/36 [==============================] - 39s 1s/step - loss: 0.0864 - accuracy: 0.9671\n",
            "36/36 [==============================] - 2s 56ms/step - loss: 0.5064 - accuracy: 0.8421\n",
            "Score for fold 1: loss of 0.5064024925231934; accuracy of 84.2058539390564%\n",
            "------------------------------------------------------------------------\n",
            "X_train split size (4505, 20, 208, 1)\n",
            "X_test split size (1127, 20, 208, 1)\n",
            "------------------------------------------------------------------------\n",
            "Training for fold 2 ...\n",
            "Epoch 1/100\n",
            "36/36 [==============================] - 42s 1s/step - loss: 0.7021 - accuracy: 0.5105\n",
            "Epoch 2/100\n",
            "36/36 [==============================] - 40s 1s/step - loss: 0.6784 - accuracy: 0.5605\n",
            "Epoch 3/100\n",
            "36/36 [==============================] - 40s 1s/step - loss: 0.6052 - accuracy: 0.6673\n",
            "Epoch 4/100\n",
            "36/36 [==============================] - 37s 1s/step - loss: 0.5667 - accuracy: 0.6957\n",
            "Epoch 5/100\n",
            "36/36 [==============================] - 40s 1s/step - loss: 0.5377 - accuracy: 0.7199\n",
            "Epoch 6/100\n",
            "36/36 [==============================] - 47s 1s/step - loss: 0.5237 - accuracy: 0.7390\n",
            "Epoch 7/100\n",
            "36/36 [==============================] - 44s 1s/step - loss: 0.5045 - accuracy: 0.7485\n",
            "Epoch 8/100\n",
            "36/36 [==============================] - 38s 1s/step - loss: 0.4935 - accuracy: 0.7554\n",
            "Epoch 9/100\n",
            "36/36 [==============================] - 39s 1s/step - loss: 0.4768 - accuracy: 0.7654\n",
            "Epoch 10/100\n",
            "36/36 [==============================] - 36s 1s/step - loss: 0.4770 - accuracy: 0.7647\n",
            "Epoch 11/100\n",
            "36/36 [==============================] - 38s 1s/step - loss: 0.4429 - accuracy: 0.7960\n",
            "Epoch 12/100\n",
            "36/36 [==============================] - 37s 1s/step - loss: 0.4345 - accuracy: 0.7962\n",
            "Epoch 13/100\n",
            "36/36 [==============================] - 39s 1s/step - loss: 0.4331 - accuracy: 0.7880\n",
            "Epoch 14/100\n",
            "36/36 [==============================] - 39s 1s/step - loss: 0.4215 - accuracy: 0.7969\n",
            "Epoch 15/100\n",
            "36/36 [==============================] - 37s 1s/step - loss: 0.4153 - accuracy: 0.8027\n",
            "Epoch 16/100\n",
            "36/36 [==============================] - 40s 1s/step - loss: 0.3971 - accuracy: 0.8180\n",
            "Epoch 17/100\n",
            "36/36 [==============================] - 39s 1s/step - loss: 0.3980 - accuracy: 0.8169\n",
            "Epoch 18/100\n",
            "36/36 [==============================] - 38s 1s/step - loss: 0.3938 - accuracy: 0.8124\n",
            "Epoch 19/100\n",
            "36/36 [==============================] - 42s 1s/step - loss: 0.3788 - accuracy: 0.8211\n",
            "Epoch 20/100\n",
            "36/36 [==============================] - 36s 1s/step - loss: 0.3651 - accuracy: 0.8337\n",
            "Epoch 21/100\n",
            "36/36 [==============================] - 39s 1s/step - loss: 0.3583 - accuracy: 0.8351\n",
            "Epoch 22/100\n",
            "36/36 [==============================] - 37s 1s/step - loss: 0.3615 - accuracy: 0.8397\n",
            "Epoch 23/100\n",
            "36/36 [==============================] - 39s 1s/step - loss: 0.3404 - accuracy: 0.8388\n",
            "Epoch 24/100\n",
            "36/36 [==============================] - 37s 1s/step - loss: 0.3510 - accuracy: 0.8422\n",
            "Epoch 25/100\n",
            "36/36 [==============================] - 38s 1s/step - loss: 0.3373 - accuracy: 0.8440\n",
            "Epoch 26/100\n",
            "36/36 [==============================] - 38s 1s/step - loss: 0.3496 - accuracy: 0.8437\n",
            "Epoch 27/100\n",
            "36/36 [==============================] - 38s 1s/step - loss: 0.3196 - accuracy: 0.8637\n",
            "Epoch 28/100\n",
            "36/36 [==============================] - 38s 1s/step - loss: 0.3054 - accuracy: 0.8650\n",
            "Epoch 29/100\n",
            "36/36 [==============================] - 36s 1s/step - loss: 0.3117 - accuracy: 0.8639\n",
            "Epoch 30/100\n",
            "36/36 [==============================] - 40s 1s/step - loss: 0.3151 - accuracy: 0.8624\n",
            "Epoch 31/100\n",
            "36/36 [==============================] - 38s 1s/step - loss: 0.2861 - accuracy: 0.8764\n",
            "Epoch 32/100\n",
            "36/36 [==============================] - 41s 1s/step - loss: 0.2988 - accuracy: 0.8708\n",
            "Epoch 33/100\n",
            "36/36 [==============================] - 40s 1s/step - loss: 0.2979 - accuracy: 0.8673\n",
            "Epoch 34/100\n",
            "36/36 [==============================] - 38s 1s/step - loss: 0.2793 - accuracy: 0.8761\n",
            "Epoch 35/100\n",
            "36/36 [==============================] - 42s 1s/step - loss: 0.2728 - accuracy: 0.8812\n",
            "Epoch 36/100\n",
            "36/36 [==============================] - 39s 1s/step - loss: 0.2517 - accuracy: 0.8928\n",
            "Epoch 37/100\n",
            "36/36 [==============================] - 38s 1s/step - loss: 0.2608 - accuracy: 0.8866\n",
            "Epoch 38/100\n",
            "36/36 [==============================] - 39s 1s/step - loss: 0.2697 - accuracy: 0.8788\n",
            "Epoch 39/100\n",
            "36/36 [==============================] - 37s 1s/step - loss: 0.2499 - accuracy: 0.8952\n",
            "Epoch 40/100\n",
            "36/36 [==============================] - 38s 1s/step - loss: 0.2603 - accuracy: 0.8895\n",
            "Epoch 41/100\n",
            "36/36 [==============================] - 37s 1s/step - loss: 0.2415 - accuracy: 0.8968\n",
            "Epoch 42/100\n",
            "36/36 [==============================] - 38s 1s/step - loss: 0.2439 - accuracy: 0.8992\n",
            "Epoch 43/100\n",
            "36/36 [==============================] - 36s 1s/step - loss: 0.2381 - accuracy: 0.9001\n",
            "Epoch 44/100\n",
            "36/36 [==============================] - 38s 1s/step - loss: 0.2238 - accuracy: 0.9074\n",
            "Epoch 45/100\n",
            "36/36 [==============================] - 37s 1s/step - loss: 0.2187 - accuracy: 0.9077\n",
            "Epoch 46/100\n",
            "36/36 [==============================] - 39s 1s/step - loss: 0.2170 - accuracy: 0.9105\n",
            "Epoch 47/100\n",
            "36/36 [==============================] - 37s 1s/step - loss: 0.2203 - accuracy: 0.9085\n",
            "Epoch 48/100\n",
            "36/36 [==============================] - 39s 1s/step - loss: 0.2026 - accuracy: 0.9117\n",
            "Epoch 49/100\n",
            "36/36 [==============================] - 38s 1s/step - loss: 0.2166 - accuracy: 0.9117\n",
            "Epoch 50/100\n",
            "36/36 [==============================] - 38s 1s/step - loss: 0.1941 - accuracy: 0.9176\n",
            "Epoch 51/100\n",
            "36/36 [==============================] - 39s 1s/step - loss: 0.2035 - accuracy: 0.9132\n",
            "Epoch 52/100\n",
            "36/36 [==============================] - 37s 1s/step - loss: 0.1920 - accuracy: 0.9219\n",
            "Epoch 53/100\n",
            "36/36 [==============================] - 39s 1s/step - loss: 0.1834 - accuracy: 0.9265\n",
            "Epoch 54/100\n",
            "36/36 [==============================] - 38s 1s/step - loss: 0.1958 - accuracy: 0.9168\n",
            "Epoch 55/100\n",
            "36/36 [==============================] - 41s 1s/step - loss: 0.1826 - accuracy: 0.9216\n",
            "Epoch 56/100\n",
            "36/36 [==============================] - 40s 1s/step - loss: 0.1714 - accuracy: 0.9279\n",
            "Epoch 57/100\n",
            "36/36 [==============================] - 37s 1s/step - loss: 0.1885 - accuracy: 0.9205\n",
            "Epoch 58/100\n",
            "36/36 [==============================] - 40s 1s/step - loss: 0.1788 - accuracy: 0.9252\n",
            "Epoch 59/100\n",
            "36/36 [==============================] - 39s 1s/step - loss: 0.1749 - accuracy: 0.9281\n",
            "Epoch 60/100\n",
            "36/36 [==============================] - 38s 1s/step - loss: 0.1776 - accuracy: 0.9279\n",
            "Epoch 61/100\n",
            "36/36 [==============================] - 40s 1s/step - loss: 0.1711 - accuracy: 0.9294\n",
            "Epoch 62/100\n",
            "36/36 [==============================] - 45s 1s/step - loss: 0.1670 - accuracy: 0.9287\n",
            "Epoch 63/100\n",
            "19/36 [==============>...............] - ETA: 18s - loss: 0.1669 - accuracy: 0.9330"
          ]
        }
      ],
      "source": [
        "from sklearn.model_selection import KFold\n",
        "#kfold = KFold(n_splits=10, shuffle=True)\n",
        "from sklearn.model_selection import StratifiedShuffleSplit\n",
        "kfold=StratifiedShuffleSplit(n_splits=5,test_size=0.20)\n",
        "acc_per_fold=[]\n",
        "loss_per_fold=[]\n",
        "acc_per_fold_train=[]\n",
        "loss_per_fold_train=[]\n",
        "\n",
        "# K-fold Cross Validation model evaluation\n",
        "fold_no = 1\n",
        "for train,test in kfold.split(X_train, y_train):\n",
        "  print('------------------------------------------------------------------------')\n",
        "  print('X_train split size',X_train[train].shape)\n",
        "  print('X_test split size',X_train[test].shape)\n",
        "\n",
        "  # Define the model architecture\n",
        "  model=cnn_model()\n",
        "  # Generate a print\n",
        "  print('------------------------------------------------------------------------')\n",
        "  print(f'Training for fold {fold_no} ...')\n",
        "\n",
        "  # Fit data to model\n",
        "  history = model.fit(X_train[train],y_train[train],\n",
        "              batch_size=128,\n",
        "              epochs=100,\n",
        "              verbose=1)\n",
        "\n",
        "  # Generate generalization metrics\n",
        "  scores = model.evaluate(X_train[test],y_train[test], verbose=1)\n",
        "  #pred=model.predict(X_train[test])\n",
        "  #predict_list.append(pred)\n",
        "  #true_list.append(y_train[test])\n",
        "  print(f'Score for fold {fold_no}: {model.metrics_names[0]} of {scores[0]}; {model.metrics_names[1]} of {scores[1]*100}%')\n",
        "  acc_per_fold.append(scores[1] * 100)\n",
        "  loss_per_fold.append(scores[0])\n",
        "  acc_per_fold_train.append(history.history['accuracy'] * 100)\n",
        "  loss_per_fold_train.append(history.history['loss'])\n",
        "\n",
        "  # Increase fold number\n",
        "  fold_no = fold_no + 1\n",
        "\n",
        "# == Provide average scores ==\n",
        "print('------------------------------------------------------------------------')\n",
        "print('Score per fold')\n",
        "for i in range(0, len(acc_per_fold)):\n",
        "  print('------------------------------------------------------------------------')\n",
        "  #print(f'> Fold {i+1} - Train Loss: {loss_per_fold_train[i]} - Train Accuracy: {acc_per_fold_train[i]}%')\n",
        "  print(f'> Fold {i+1} - Loss: {loss_per_fold[i]} - Accuracy: {acc_per_fold[i]}%')\n",
        "print('------------------------------------------------------------------------')\n",
        "print('Average scores for all folds:')\n",
        "#print(f'> Train Accuracy: {np.mean(acc_per_fold_train)} (+- {np.std(acc_per_fold_train)})')\n",
        "#print(f'> Train Loss: {np.mean(loss_per_fold_train)}')\n",
        "print(f'> Accuracy: {np.mean(acc_per_fold)} (+- {np.std(acc_per_fold)})')\n",
        "print(f'> Loss: {np.mean(loss_per_fold)}')\n",
        "print('------------------------------------------------------------------------')"
      ]
    },
    {
      "cell_type": "code",
      "execution_count": null,
      "id": "qigO-w4p_iWV",
      "metadata": {
        "id": "qigO-w4p_iWV"
      },
      "outputs": [],
      "source": [
        "model.evaluate(X_val,y_val)"
      ]
    }
  ],
  "metadata": {
    "accelerator": "GPU",
    "colab": {
      "provenance": [],
      "gpuType": "T4"
    },
    "gpuClass": "standard",
    "kernelspec": {
      "display_name": "Python [conda env:test1]",
      "language": "python",
      "name": "conda-env-test1-py"
    },
    "language_info": {
      "codemirror_mode": {
        "name": "ipython",
        "version": 3
      },
      "file_extension": ".py",
      "mimetype": "text/x-python",
      "name": "python",
      "nbconvert_exporter": "python",
      "pygments_lexer": "ipython3",
      "version": "3.8.13"
    }
  },
  "nbformat": 4,
  "nbformat_minor": 5
}